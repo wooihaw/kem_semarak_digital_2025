{
  "cells": [
    {
      "cell_type": "markdown",
      "metadata": {
        "id": "view-in-github",
        "colab_type": "text"
      },
      "source": [
        "<a href=\"https://colab.research.google.com/github/wooihaw/kem_semarak_digital_2025/blob/main/handson_1.ipynb\" target=\"_parent\"><img src=\"https://colab.research.google.com/assets/colab-badge.svg\" alt=\"Open In Colab\"/></a>"
      ]
    },
    {
      "cell_type": "markdown",
      "metadata": {
        "id": "ye2qTAc7eCgE"
      },
      "source": [
        "## Hands-on 1\n",
        "#### The objective of this hands-on is to verify that the development environment has been properly set up by going through 6 stages of machine learning workflow.\n"
      ]
    },
    {
      "cell_type": "code",
      "execution_count": null,
      "metadata": {
        "id": "bwmwgS-yeCgH"
      },
      "outputs": [],
      "source": [
        "# Initialization\n",
        "%matplotlib inline\n",
        "import warnings\n",
        "warnings.filterwarnings('ignore')"
      ]
    },
    {
      "cell_type": "code",
      "execution_count": null,
      "metadata": {
        "id": "DqgjJiEYeCgJ"
      },
      "outputs": [],
      "source": [
        "# Load the required libraries\n",
        "import numpy as np\n",
        "from pandas import read_csv\n",
        "from matplotlib import pyplot as plt\n",
        "from sklearn.neighbors import KNeighborsClassifier\n",
        "from sklearn.model_selection import train_test_split\n",
        "from sklearn.preprocessing import MinMaxScaler\n",
        "from sklearn.preprocessing import LabelEncoder"
      ]
    },
    {
      "cell_type": "markdown",
      "metadata": {
        "id": "v_oZVss3eCgJ"
      },
      "source": [
        "### Stage 1 Problem statement\n",
        "- To predict the gender based on height and weight"
      ]
    },
    {
      "cell_type": "markdown",
      "metadata": {
        "id": "CSGnWxxbeCgK"
      },
      "source": [
        "### Stage 2 Data collection\n",
        "- Collect the required data to solve the problem"
      ]
    },
    {
      "cell_type": "code",
      "execution_count": null,
      "metadata": {
        "id": "xDmHF-yFeCgL"
      },
      "outputs": [],
      "source": [
        "# load dataset\n",
        "df = read_csv(\"https://raw.githubusercontent.com/wooihaw/datasets/main/heights_weights_genders.csv\")\n",
        "\n",
        "# Check the data\n",
        "print(f\"Dimension of the data: {df.shape}\")\n",
        "\n",
        "# Select 5 data samples random and print them\n",
        "df.sample(5)"
      ]
    },
    {
      "cell_type": "markdown",
      "metadata": {
        "id": "SV0P_-QCeCgL"
      },
      "source": [
        "### Stage 3 Data preprocessing\n",
        "- Prepare the data in the appropriate format and structure"
      ]
    },
    {
      "cell_type": "code",
      "execution_count": null,
      "metadata": {
        "scrolled": true,
        "id": "ODJ78ArreCgM"
      },
      "outputs": [],
      "source": [
        "# Seperate the dataset into features (X) and label (y)\n",
        "X = df.drop(columns=['Gender'])\n",
        "y = df['Gender']\n",
        "print(f'X dimension: {X.shape}')\n",
        "print(f'y dimension: {y.shape}')"
      ]
    },
    {
      "cell_type": "code",
      "execution_count": null,
      "metadata": {
        "id": "mEB2jgcCeCgN"
      },
      "outputs": [],
      "source": [
        "# split into training and testing sets\n",
        "X_train, X_test, y_train, y_test = train_test_split(X, y, test_size=0.2, random_state=42)\n",
        "print(f'X_train dimension: {X_train.shape}')\n",
        "print(f'X_test dimension: {X_test.shape}')\n",
        "print(f'y_train dimension: {y_train.shape}')\n",
        "print(f'y_test dimension: {y_test.shape}')"
      ]
    },
    {
      "cell_type": "markdown",
      "metadata": {
        "id": "2qprGSfxeCgN"
      },
      "source": [
        "### Stage 4 Modeling\n",
        "- Build the model to solve the problem"
      ]
    },
    {
      "cell_type": "code",
      "execution_count": null,
      "metadata": {
        "id": "2yE3a1TAeCgO"
      },
      "outputs": [],
      "source": [
        "# KNN classifier\n",
        "knn = KNeighborsClassifier().fit(X_train, y_train)"
      ]
    },
    {
      "cell_type": "markdown",
      "metadata": {
        "id": "CXs-eJBCeCgP"
      },
      "source": [
        "### Stage 5 Evaluation\n",
        "- Evaluate the performe of the model"
      ]
    },
    {
      "cell_type": "code",
      "execution_count": null,
      "metadata": {
        "id": "x1TgPzhEeCgQ"
      },
      "outputs": [],
      "source": [
        "print(f'KNN accuracy: {knn.score(X_test, y_test):.2%}')"
      ]
    },
    {
      "cell_type": "markdown",
      "metadata": {
        "id": "K-Dnk7VCeCgQ"
      },
      "source": [
        "### Stage 6 Deployment\n",
        "- Deploy the model for problem solving"
      ]
    },
    {
      "cell_type": "code",
      "execution_count": null,
      "metadata": {
        "tags": [],
        "id": "axkWHU4aeCgR"
      },
      "outputs": [],
      "source": [
        "# Make prediction based on user input\n",
        "try:\n",
        "    h = float(input('Please enter height (cm): '))\n",
        "    w = float(input('Please enter weight (kg): '))\n",
        "    assert 0 < h < 300 and 0 < w < 300, \"Value out of range\"\n",
        "except ValueError:\n",
        "    print(\"Invalid input! Please only enter number\")\n",
        "except AssertionError as e:\n",
        "    print(\"Error! \", e)\n",
        "else:\n",
        "    res1 = knn.predict([[h, w]])\n",
        "    print(f'kNN predicts: {res1}')"
      ]
    },
    {
      "cell_type": "code",
      "execution_count": null,
      "metadata": {
        "id": "zei5ACjFeCgS"
      },
      "outputs": [],
      "source": []
    }
  ],
  "metadata": {
    "kernelspec": {
      "display_name": "Python 3 (ipykernel)",
      "language": "python",
      "name": "python3"
    },
    "language_info": {
      "codemirror_mode": {
        "name": "ipython",
        "version": 3
      },
      "file_extension": ".py",
      "mimetype": "text/x-python",
      "name": "python",
      "nbconvert_exporter": "python",
      "pygments_lexer": "ipython3",
      "version": "3.12.4"
    },
    "colab": {
      "provenance": [],
      "include_colab_link": true
    }
  },
  "nbformat": 4,
  "nbformat_minor": 0
}