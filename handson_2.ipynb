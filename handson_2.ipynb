{
  "cells": [
    {
      "cell_type": "markdown",
      "metadata": {
        "id": "view-in-github",
        "colab_type": "text"
      },
      "source": [
        "<a href=\"https://colab.research.google.com/github/wooihaw/kem_semarak_digital_2025/blob/main/handson_2.ipynb\" target=\"_parent\"><img src=\"https://colab.research.google.com/assets/colab-badge.svg\" alt=\"Open In Colab\"/></a>"
      ]
    },
    {
      "cell_type": "markdown",
      "metadata": {
        "id": "ZkUuQby6e4G9"
      },
      "source": [
        "## Hands-on 2\n",
        "#### Build a regression model to estimate the weight based on height\n"
      ]
    },
    {
      "cell_type": "code",
      "execution_count": null,
      "metadata": {
        "id": "RMm6G5Qde4G_"
      },
      "outputs": [],
      "source": [
        "# Initialization\n",
        "%matplotlib inline\n",
        "from warnings import filterwarnings\n",
        "filterwarnings('ignore')"
      ]
    },
    {
      "cell_type": "code",
      "execution_count": null,
      "metadata": {
        "id": "YsS9_5Kqe4HB"
      },
      "outputs": [],
      "source": [
        "from pandas import read_csv, get_dummies\n",
        "from sklearn.model_selection import train_test_split as split\n",
        "from sklearn.linear_model import LinearRegression\n",
        "\n",
        "df = read_csv('https://raw.githubusercontent.com/wooihaw/datasets/main/heights_weights_genders.csv')\n",
        "X1 = df.drop(columns=['Weight(kg)', 'Gender'])\n",
        "y1 = df['Weight(kg)']\n",
        "X1_train, X1_test, y1_train, y1_test = split(X1, y1, random_state=42)"
      ]
    },
    {
      "cell_type": "markdown",
      "metadata": {
        "id": "Hw9jSVd1e4HB"
      },
      "source": [
        "**To do:**\n",
        "- Build a linear regression model (name it as lnr1) to estimate weight using height\n",
        "- Evaluate the model's performance with R2 score"
      ]
    },
    {
      "cell_type": "code",
      "execution_count": null,
      "metadata": {
        "id": "XmtJ5m_De4HC"
      },
      "outputs": [],
      "source": [
        "lnr1 = LinearRegression().fit(X1_train, y1_train)\n",
        "print(f'lnr1 R2 score: {lnr1.score(X1_test, y1_test)}')"
      ]
    },
    {
      "cell_type": "markdown",
      "metadata": {
        "id": "T7aqAvzKe4HC"
      },
      "source": [
        "Ask user to provide the height to predict the weight"
      ]
    },
    {
      "cell_type": "code",
      "execution_count": null,
      "metadata": {
        "id": "APE8uMV3e4HD"
      },
      "outputs": [],
      "source": [
        "h = eval(input('Enter height in cm: '))\n",
        "print(f'Estimated weight is: {lnr1.predict([[h]])}kg')"
      ]
    },
    {
      "cell_type": "markdown",
      "metadata": {
        "id": "sC3I4VZ3e4HD"
      },
      "source": [
        "**To do:**\n",
        "- Use get_dummies() to perform one-hot encoding of the nominal data (gender)\n",
        "- Print 5 random data samples"
      ]
    },
    {
      "cell_type": "code",
      "execution_count": null,
      "metadata": {
        "id": "GV7_RhEwe4HD"
      },
      "outputs": [],
      "source": [
        "df2 = get_dummies(df, columns=['Gender'])\n",
        "df2.head()"
      ]
    },
    {
      "cell_type": "markdown",
      "metadata": {
        "id": "4p6TIZpre4HE"
      },
      "source": [
        "**To do:**\n",
        "- Use both genders and height as input features\n",
        "- Separate the dataframe into features (X) and target (y)\n",
        "- Split into traning (75%) and testing sets (25%)"
      ]
    },
    {
      "cell_type": "code",
      "execution_count": null,
      "metadata": {
        "id": "ljmPfj_Ce4HE"
      },
      "outputs": [],
      "source": [
        "X2 = df2.drop(columns=['Weight(kg)'])\n",
        "y2 = df2['Weight(kg)']\n",
        "X2_train, X2_test, y2_train, y2_test = split(X2, y2, test_size=0.25, random_state=42)"
      ]
    },
    {
      "cell_type": "markdown",
      "metadata": {
        "id": "NiO5foxMe4HF"
      },
      "source": [
        "**To do:**\n",
        "- Build another regression model (lnr2) to estimate the weight based on height and gender\n",
        "- Evaluate the model's performance with R2 score"
      ]
    },
    {
      "cell_type": "code",
      "execution_count": null,
      "metadata": {
        "id": "H5Gg_Q_pe4HF"
      },
      "outputs": [],
      "source": [
        "lnr2 = LinearRegression().fit(X2_train, y2_train)\n",
        "print(f'lnr2 R2 score: {lnr2.score(X2_test, y2_test)}')"
      ]
    },
    {
      "cell_type": "markdown",
      "metadata": {
        "id": "t8yBXjmCe4HF"
      },
      "source": [
        "Ask user to provide height and gender to predict the weight"
      ]
    },
    {
      "cell_type": "code",
      "execution_count": null,
      "metadata": {
        "id": "T5JigYY3e4HG"
      },
      "outputs": [],
      "source": [
        "h = eval(input('Enter height in cm: '))\n",
        "g = eval(input('Enter gender (1 for female, 0 for male): '))\n",
        "assert 0 < h < 300 and 0 <= g <= 1, \"Value out of range\"\n",
        "print(f'Estimated weight is: {lnr2.predict([[h, g, 1-g]])}kg')"
      ]
    },
    {
      "cell_type": "code",
      "execution_count": null,
      "metadata": {
        "id": "0tCe8iCXe4HG"
      },
      "outputs": [],
      "source": []
    }
  ],
  "metadata": {
    "kernelspec": {
      "display_name": "Python 3 (ipykernel)",
      "language": "python",
      "name": "python3"
    },
    "language_info": {
      "codemirror_mode": {
        "name": "ipython",
        "version": 3
      },
      "file_extension": ".py",
      "mimetype": "text/x-python",
      "name": "python",
      "nbconvert_exporter": "python",
      "pygments_lexer": "ipython3",
      "version": "3.12.4"
    },
    "colab": {
      "provenance": [],
      "include_colab_link": true
    }
  },
  "nbformat": 4,
  "nbformat_minor": 0
}